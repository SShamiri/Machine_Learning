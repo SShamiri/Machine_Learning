{
 "cells": [
  {
   "cell_type": "code",
   "execution_count": 0,
   "metadata": {
    "application/vnd.databricks.v1+cell": {
     "cellMetadata": {
      "byteLimit": 2048000,
      "rowLimit": 10000
     },
     "inputWidgets": {},
     "nuid": "4882d741-529f-4181-9634-6369b4de3075",
     "showTitle": false,
     "tableResultSettingsMap": {},
     "title": ""
    }
   },
   "outputs": [],
   "source": [
    "import pandas as pd\n",
    "wind_farm_data = pd.read_csv(\"/dbfs/FileStore/tables/windfarm_data.csv\", index_col=0)\n",
    " \n",
    "def get_training_data():\n",
    "  training_data = pd.DataFrame(wind_farm_data[\"2014-01-01\":\"2018-01-01\"])\n",
    "  X = training_data.drop(columns=\"power\")\n",
    "  y = training_data[\"power\"]\n",
    "  return X, y\n",
    " \n",
    "def get_validation_data():\n",
    "  validation_data = pd.DataFrame(wind_farm_data[\"2018-01-01\":\"2019-01-01\"])\n",
    "  X = validation_data.drop(columns=\"power\")\n",
    "  y = validation_data[\"power\"]\n",
    "  return X, y\n",
    " \n",
    "def get_weather_and_forecast():\n",
    "  format_date = lambda pd_date : pd_date.date().strftime(\"%Y-%m-%d\")\n",
    "  today = pd.Timestamp('today').normalize()\n",
    "  week_ago = today - pd.Timedelta(days=5)\n",
    "  week_later = today + pd.Timedelta(days=5)\n",
    "  \n",
    "  past_power_output = pd.DataFrame(wind_farm_data)[format_date(week_ago):format_date(today)]\n",
    "  weather_and_forecast = pd.DataFrame(wind_farm_data)[format_date(week_ago):format_date(week_later)]\n",
    "  if len(weather_and_forecast) < 10:\n",
    "    past_power_output = pd.DataFrame(wind_farm_data).iloc[-10:-5]\n",
    "    weather_and_forecast = pd.DataFrame(wind_farm_data).iloc[-10:]\n",
    " \n",
    "  return weather_and_forecast.drop(columns=\"power\"), past_power_output[\"power\"]"
   ]
  },
  {
   "cell_type": "code",
   "execution_count": 0,
   "metadata": {
    "application/vnd.databricks.v1+cell": {
     "cellMetadata": {
      "byteLimit": 2048000,
      "rowLimit": 10000
     },
     "inputWidgets": {},
     "nuid": "9b34bc5c-5099-43f8-bd0c-97b3c71ae7ff",
     "showTitle": false,
     "tableResultSettingsMap": {},
     "title": ""
    }
   },
   "outputs": [],
   "source": [
    "wind_farm_data[\"2019-01-01\":\"2019-01-14\"]"
   ]
  },
  {
   "cell_type": "code",
   "execution_count": 0,
   "metadata": {
    "application/vnd.databricks.v1+cell": {
     "cellMetadata": {
      "byteLimit": 2048000,
      "rowLimit": 10000
     },
     "inputWidgets": {},
     "nuid": "f71e9005-ca8e-47d7-a8f4-282d722e9a15",
     "showTitle": false,
     "tableResultSettingsMap": {},
     "title": ""
    }
   },
   "outputs": [],
   "source": [
    "# Tensorflow is an open source ML library develop by Google\n",
    "import tensorflow as tf\n",
    "from tensorflow.keras.layers import Dense\n",
    "from tensorflow.keras.models import Sequential"
   ]
  },
  {
   "cell_type": "code",
   "execution_count": 0,
   "metadata": {
    "application/vnd.databricks.v1+cell": {
     "cellMetadata": {
      "byteLimit": 2048000,
      "rowLimit": 10000
     },
     "inputWidgets": {},
     "nuid": "e229ddab-322b-47db-b393-b6544b71068d",
     "showTitle": false,
     "tableResultSettingsMap": {},
     "title": ""
    }
   },
   "outputs": [],
   "source": [
    "# Keras is a high level API for tensorflow\n",
    "def train_keras_model(X, y):\n",
    "  \n",
    "  model = Sequential()\n",
    "  model.add(Dense(100, input_shape=(X_train.shape[-1],), activation=\"relu\", name=\"hidden_layer\"))\n",
    "  model.add(Dense(1))\n",
    "  model.compile(loss=\"mse\", optimizer=\"adam\")\n",
    " \n",
    "  model.fit(X_train, y_train, epochs=100, batch_size=64, validation_split=.2)\n",
    "  return model"
   ]
  },
  {
   "cell_type": "code",
   "execution_count": 0,
   "metadata": {
    "application/vnd.databricks.v1+cell": {
     "cellMetadata": {
      "byteLimit": 2048000,
      "rowLimit": 10000
     },
     "inputWidgets": {},
     "nuid": "3f95de33-9df7-4921-9fb2-447a4f993f64",
     "showTitle": false,
     "tableResultSettingsMap": {},
     "title": ""
    }
   },
   "outputs": [],
   "source": [
    "import mlflow\n",
    "import mlflow.keras\n",
    "import mlflow.tensorflow\n",
    " \n",
    "X_train, y_train = get_training_data()\n",
    " \n",
    "with mlflow.start_run():\n",
    "  # Automatically capture the model's parameters, metrics, artifacts,\n",
    "  # and source code with the `autolog()` function\n",
    "  mlflow.tensorflow.autolog()\n",
    "  \n",
    "  train_keras_model(X_train, y_train)\n",
    "  run_id = mlflow.active_run().info.run_id"
   ]
  },
  {
   "cell_type": "code",
   "execution_count": 0,
   "metadata": {
    "application/vnd.databricks.v1+cell": {
     "cellMetadata": {
      "byteLimit": 2048000,
      "rowLimit": 10000
     },
     "inputWidgets": {},
     "nuid": "415e933b-85ef-462e-b300-f1fb6984facf",
     "showTitle": false,
     "tableResultSettingsMap": {},
     "title": ""
    }
   },
   "outputs": [],
   "source": [
    "model_name = \"power-forecasting-model\""
   ]
  },
  {
   "cell_type": "code",
   "execution_count": 0,
   "metadata": {
    "application/vnd.databricks.v1+cell": {
     "cellMetadata": {
      "byteLimit": 2048000,
      "rowLimit": 10000
     },
     "inputWidgets": {},
     "nuid": "2c227f6f-5d4c-4065-8dca-95f00937258d",
     "showTitle": false,
     "tableResultSettingsMap": {},
     "title": ""
    }
   },
   "outputs": [],
   "source": [
    "run_id"
   ]
  },
  {
   "cell_type": "code",
   "execution_count": 0,
   "metadata": {
    "application/vnd.databricks.v1+cell": {
     "cellMetadata": {
      "byteLimit": 2048000,
      "rowLimit": 10000
     },
     "inputWidgets": {},
     "nuid": "0476f5eb-dc76-4535-a5c8-55597db59c23",
     "showTitle": false,
     "tableResultSettingsMap": {},
     "title": ""
    }
   },
   "outputs": [],
   "source": [
    "import mlflow\n",
    " \n",
    "# The default path where the MLflow autologging function stores the model\n",
    "artifact_path = \"model\"\n",
    "model_uri = \"runs:/{run_id}/{artifact_path}\".format(run_id=run_id, artifact_path=artifact_path)\n",
    " \n",
    "model_details = mlflow.register_model(model_uri=model_uri, name=model_name)"
   ]
  },
  {
   "cell_type": "code",
   "execution_count": 0,
   "metadata": {
    "application/vnd.databricks.v1+cell": {
     "cellMetadata": {
      "byteLimit": 2048000,
      "rowLimit": 10000
     },
     "inputWidgets": {},
     "nuid": "f76a0de8-edce-4430-beff-06daed4ca0ff",
     "showTitle": false,
     "tableResultSettingsMap": {},
     "title": ""
    }
   },
   "outputs": [],
   "source": [
    "\n",
    "model_details"
   ]
  },
  {
   "cell_type": "code",
   "execution_count": 0,
   "metadata": {
    "application/vnd.databricks.v1+cell": {
     "cellMetadata": {
      "byteLimit": 2048000,
      "rowLimit": 10000
     },
     "inputWidgets": {},
     "nuid": "2ebb4456-53ce-40ad-b30c-675b3007869c",
     "showTitle": false,
     "tableResultSettingsMap": {},
     "title": ""
    }
   },
   "outputs": [],
   "source": [
    "# In case where the models are very big and complex, registration may take some time. The following code waits for model registration. Keeps fetching the information every second and waits for registration\n",
    "import time\n",
    "from mlflow.tracking.client import MlflowClient\n",
    "from mlflow.entities.model_registry.model_version_status import ModelVersionStatus\n",
    " \n",
    "def wait_until_ready(model_name, model_version):\n",
    "  client = MlflowClient()\n",
    "  for _ in range(10):\n",
    "    model_version_details = client.get_model_version(\n",
    "      name=model_name,\n",
    "      version=model_version,\n",
    "    )\n",
    "    status = ModelVersionStatus.from_string(model_version_details.status)\n",
    "    print(\"Model status: %s\" % ModelVersionStatus.to_string(status))\n",
    "    if status == ModelVersionStatus.READY:\n",
    "      break\n",
    "    time.sleep(1)\n",
    "  \n",
    "\n",
    "wait_until_ready(model_details.name, model_details.version)"
   ]
  },
  {
   "cell_type": "code",
   "execution_count": 0,
   "metadata": {
    "application/vnd.databricks.v1+cell": {
     "cellMetadata": {
      "byteLimit": 2048000,
      "rowLimit": 10000
     },
     "inputWidgets": {},
     "nuid": "d4b97759-851c-4c5f-abc8-ab63fc79ce67",
     "showTitle": false,
     "tableResultSettingsMap": {},
     "title": ""
    }
   },
   "outputs": [],
   "source": [
    "# Set the description of the model\n",
    "from mlflow.tracking.client import MlflowClient\n",
    " \n",
    "client = MlflowClient()\n",
    "client.update_registered_model(\n",
    "  name=model_details.name,\n",
    "  description=\"This model forecasts the power output of a wind farm based on weather data. The weather data consists of three features: wind speed, wind direction, and air temperature.\"\n",
    ")"
   ]
  },
  {
   "cell_type": "code",
   "execution_count": 0,
   "metadata": {
    "application/vnd.databricks.v1+cell": {
     "cellMetadata": {
      "byteLimit": 2048000,
      "rowLimit": 10000
     },
     "inputWidgets": {},
     "nuid": "30c761f0-316f-4eac-a264-9108fa04fae5",
     "showTitle": false,
     "tableResultSettingsMap": {},
     "title": ""
    }
   },
   "outputs": [],
   "source": [
    "# Set the description of the model version\n",
    "client.update_model_version(\n",
    "  name=model_details.name,\n",
    "  version=model_details.version,\n",
    "  description=\"This model version was built using TensorFlow Keras. It is a feed-forward neural network with one hidden layer.\"\n",
    ")"
   ]
  },
  {
   "cell_type": "code",
   "execution_count": 0,
   "metadata": {
    "application/vnd.databricks.v1+cell": {
     "cellMetadata": {
      "byteLimit": 2048000,
      "rowLimit": 10000
     },
     "inputWidgets": {},
     "nuid": "0c4d03b9-d5da-4727-bf6f-368ab363f4d6",
     "showTitle": false,
     "tableResultSettingsMap": {},
     "title": ""
    }
   },
   "outputs": [],
   "source": [
    "# Push the model stage to Production\n",
    "client.transition_model_version_stage(\n",
    "  name=model_details.name,\n",
    "  version=model_details.version,\n",
    "  stage='Production',\n",
    ")"
   ]
  },
  {
   "cell_type": "code",
   "execution_count": 0,
   "metadata": {
    "application/vnd.databricks.v1+cell": {
     "cellMetadata": {
      "byteLimit": 2048000,
      "rowLimit": 10000
     },
     "inputWidgets": {},
     "nuid": "32905efe-2c87-41f6-a723-d2430267ccea",
     "showTitle": false,
     "tableResultSettingsMap": {},
     "title": ""
    }
   },
   "outputs": [],
   "source": [
    "# Get the model stage of the current model\n",
    "model_version_details = client.get_model_version(\n",
    "  name=model_details.name,\n",
    "  version=model_details.version,\n",
    ")\n",
    "print(\"The current model stage is: '{stage}'\".format(stage=model_version_details.current_stage))"
   ]
  },
  {
   "cell_type": "code",
   "execution_count": 0,
   "metadata": {
    "application/vnd.databricks.v1+cell": {
     "cellMetadata": {
      "byteLimit": 2048000,
      "rowLimit": 10000
     },
     "inputWidgets": {},
     "nuid": "063eff07-1dc0-4e1d-a049-7c1dff1c9c37",
     "showTitle": false,
     "tableResultSettingsMap": {},
     "title": ""
    }
   },
   "outputs": [],
   "source": [
    "# Get the version of the current model in production\n",
    "latest_version_info = client.get_latest_versions(model_name, stages=[\"Production\"])\n",
    "latest_production_version = latest_version_info[0].version\n",
    "print(\"The latest production version of the model '%s' is '%s'.\" % (model_name, latest_production_version))"
   ]
  },
  {
   "cell_type": "code",
   "execution_count": 0,
   "metadata": {
    "application/vnd.databricks.v1+cell": {
     "cellMetadata": {
      "byteLimit": 2048000,
      "rowLimit": 10000
     },
     "inputWidgets": {},
     "nuid": "4823aed8-c232-4faf-adf5-699138a1dd6d",
     "showTitle": false,
     "tableResultSettingsMap": {},
     "title": ""
    }
   },
   "outputs": [],
   "source": [
    "# Load a specific version of the model \n",
    "\n",
    "import mlflow.pyfunc\n",
    " \n",
    "model_version_uri = \"models:/{model_name}/1\".format(model_name=model_name)\n",
    " \n",
    "print(\"Loading registered model version from URI: '{model_uri}'\".format(model_uri=model_version_uri))\n",
    "model_version_1 = mlflow.pyfunc.load_model(model_version_uri)"
   ]
  },
  {
   "cell_type": "code",
   "execution_count": 0,
   "metadata": {
    "application/vnd.databricks.v1+cell": {
     "cellMetadata": {
      "byteLimit": 2048000,
      "rowLimit": 10000
     },
     "inputWidgets": {},
     "nuid": "a0ce4150-f246-4526-bb9e-c103de22925c",
     "showTitle": false,
     "tableResultSettingsMap": {},
     "title": ""
    }
   },
   "outputs": [],
   "source": [
    "# Load a specific model stage (in this case, production stage)\n",
    "\n",
    "model_production_uri = \"models:/{model_name}/production\".format(model_name=model_name)\n",
    " \n",
    "print(\"Loading registered model version from URI: '{model_uri}'\".format(model_uri=model_production_uri))\n",
    "model_production = mlflow.pyfunc.load_model(model_production_uri)"
   ]
  },
  {
   "cell_type": "code",
   "execution_count": 0,
   "metadata": {
    "application/vnd.databricks.v1+cell": {
     "cellMetadata": {
      "byteLimit": 2048000,
      "rowLimit": 10000
     },
     "inputWidgets": {},
     "nuid": "158e9d4c-9828-42d4-9717-3bd758bc3374",
     "showTitle": false,
     "tableResultSettingsMap": {},
     "title": ""
    }
   },
   "outputs": [],
   "source": [
    "def plot(model_name, model_stage, model_version, power_predictions, past_power_output):\n",
    "  import pandas as pd\n",
    "  import matplotlib.dates as mdates\n",
    "  from matplotlib import pyplot as plt\n",
    "  index = power_predictions.index\n",
    "  fig = plt.figure(figsize=(11, 7))\n",
    "  ax = fig.add_subplot(111)\n",
    "  ax.set_xlabel(\"Date\", size=20, labelpad=20)\n",
    "  ax.set_ylabel(\"Power\\noutput\\n(MW)\", size=20, labelpad=60, rotation=0)\n",
    "  ax.tick_params(axis='both', which='major', labelsize=17)\n",
    "  ax.xaxis.set_major_formatter(mdates.DateFormatter('%m/%d'))\n",
    "  ax.plot(index[:len(past_power_output)], past_power_output, label=\"True\", color=\"red\", alpha=0.5, linewidth=4)\n",
    "  ax.plot(index, power_predictions.squeeze(), \"--\", label=\"Predicted by '%s'\\nin stage '%s' (Version %d)\" % (model_name, model_stage, model_version), color=\"blue\", linewidth=3)\n",
    "  ax.set_ylim(ymin=0, ymax=max(3500, int(max(power_predictions.values) * 1.3)))\n",
    "  ax.legend(fontsize=14)\n",
    "  plt.title(\"Wind farm power output and projections\", size=24, pad=20)\n",
    "  plt.tight_layout()\n",
    "  display(plt.show())\n",
    "\n",
    "\n",
    "def forecast_power(model_name, model_stage):\n",
    "  from mlflow.tracking.client import MlflowClient\n",
    "  client = MlflowClient()\n",
    "  model_version = client.get_latest_versions(model_name, stages=[model_stage])[0].version\n",
    "  model_uri = \"models:/{model_name}/{model_stage}\".format(model_name=model_name, model_stage=model_stage)\n",
    "  model = mlflow.pyfunc.load_model(model_uri)\n",
    "  weather_data, past_power_output = get_weather_and_forecast()\n",
    "  power_predictions = pd.DataFrame(model.predict(weather_data))\n",
    "  power_predictions.index = pd.to_datetime(weather_data.index)\n",
    "  print(power_predictions)\n",
    "  plot(model_name, model_stage, int(model_version), power_predictions, past_power_output)  "
   ]
  },
  {
   "cell_type": "code",
   "execution_count": 0,
   "metadata": {
    "application/vnd.databricks.v1+cell": {
     "cellMetadata": {
      "byteLimit": 2048000,
      "rowLimit": 10000
     },
     "inputWidgets": {},
     "nuid": "262df943-4d5b-4b26-8985-dd2652cf1de8",
     "showTitle": false,
     "tableResultSettingsMap": {},
     "title": ""
    }
   },
   "outputs": [],
   "source": [
    "forecast_power(model_name, \"Production\")"
   ]
  },
  {
   "cell_type": "code",
   "execution_count": 0,
   "metadata": {
    "application/vnd.databricks.v1+cell": {
     "cellMetadata": {
      "byteLimit": 2048000,
      "rowLimit": 10000
     },
     "inputWidgets": {},
     "nuid": "df23058e-7c1d-495b-82a7-3455327b06b8",
     "showTitle": false,
     "tableResultSettingsMap": {},
     "title": ""
    }
   },
   "outputs": [],
   "source": [
    "# Lets try to make the model better using random forest\n",
    "\n",
    "import mlflow.sklearn\n",
    "from sklearn.ensemble import RandomForestRegressor\n",
    "from sklearn.metrics import mean_squared_error\n",
    " \n",
    "with mlflow.start_run():\n",
    "  n_estimators = 300\n",
    "  mlflow.log_param(\"n_estimators\", n_estimators)\n",
    "  \n",
    "  rand_forest = RandomForestRegressor(n_estimators=n_estimators)\n",
    "  rand_forest.fit(X_train, y_train)\n",
    " \n",
    "  val_x, val_y = get_validation_data()\n",
    "  mse = mean_squared_error(rand_forest.predict(val_x), val_y)\n",
    "  print(\"Validation MSE: %d\" % mse)\n",
    "  mlflow.log_metric(\"mse\", mse)\n",
    "  \n",
    "  # Specify the `registered_model_name` parameter of the `mlflow.sklearn.log_model()` function to register the model with the MLflow Model Registry. This automatically creates a new model version\n",
    "  mlflow.sklearn.log_model(\n",
    "    sk_model=rand_forest,\n",
    "    artifact_path=\"sklearn-model\",\n",
    "    registered_model_name=model_name,\n",
    "  )"
   ]
  },
  {
   "cell_type": "code",
   "execution_count": 0,
   "metadata": {
    "application/vnd.databricks.v1+cell": {
     "cellMetadata": {
      "byteLimit": 2048000,
      "rowLimit": 10000
     },
     "inputWidgets": {},
     "nuid": "ad5fd760-5adb-43a9-b2b6-c0767bb8ec53",
     "showTitle": false,
     "tableResultSettingsMap": {},
     "title": ""
    }
   },
   "outputs": [],
   "source": [
    "# Get some information about the model\n",
    "\n",
    "from mlflow.tracking.client import MlflowClient\n",
    "client = MlflowClient()\n",
    " \n",
    "model_version_infos = client.search_model_versions(\"name = '%s'\" % model_name)\n",
    "new_model_version = max([model_version_info.version for model_version_info in model_version_infos])\n",
    "# Wait for the new model version to become ready\n",
    "wait_until_ready(model_name, new_model_version)"
   ]
  },
  {
   "cell_type": "code",
   "execution_count": 0,
   "metadata": {
    "application/vnd.databricks.v1+cell": {
     "cellMetadata": {
      "byteLimit": 2048000,
      "rowLimit": 10000
     },
     "inputWidgets": {},
     "nuid": "3f460027-bdbd-4caa-8de9-d7aac11caf20",
     "showTitle": false,
     "tableResultSettingsMap": {},
     "title": ""
    }
   },
   "outputs": [],
   "source": [
    "# Change the description of this new model\n",
    "client.update_model_version(\n",
    "  name=model_name,\n",
    "  version=new_model_version,\n",
    "  description=\"This model version is a random forest containing 100 decision trees that was trained in scikit-learn.\"\n",
    ")"
   ]
  },
  {
   "cell_type": "code",
   "execution_count": 0,
   "metadata": {
    "application/vnd.databricks.v1+cell": {
     "cellMetadata": {
      "byteLimit": 2048000,
      "rowLimit": 10000
     },
     "inputWidgets": {},
     "nuid": "6e37d1ec-7c08-4e97-ac12-6f8c64ce3622",
     "showTitle": false,
     "tableResultSettingsMap": {},
     "title": ""
    }
   },
   "outputs": [],
   "source": [
    "# Transition this new model to Staging\n",
    "\n",
    "client.transition_model_version_stage(\n",
    "  name=model_name,\n",
    "  version=new_model_version,\n",
    "  stage=\"Staging\",\n",
    ")"
   ]
  },
  {
   "cell_type": "code",
   "execution_count": 0,
   "metadata": {
    "application/vnd.databricks.v1+cell": {
     "cellMetadata": {
      "byteLimit": 2048000,
      "rowLimit": 10000
     },
     "inputWidgets": {},
     "nuid": "dd27291c-1053-4046-92bb-8ab754de6b98",
     "showTitle": false,
     "tableResultSettingsMap": {},
     "title": ""
    }
   },
   "outputs": [],
   "source": [
    "# Forecast using this new Staging model\n",
    "forecast_power(model_name, \"Staging\")"
   ]
  },
  {
   "cell_type": "code",
   "execution_count": 0,
   "metadata": {
    "application/vnd.databricks.v1+cell": {
     "cellMetadata": {
      "byteLimit": 2048000,
      "rowLimit": 10000
     },
     "inputWidgets": {},
     "nuid": "f25abb43-74f4-49cf-978c-aa8c72b9dca8",
     "showTitle": false,
     "tableResultSettingsMap": {},
     "title": ""
    }
   },
   "outputs": [],
   "source": [
    "# Since the forecasting of this new Staging model is better than the one using Keras, lets move this model to production\n",
    "client.transition_model_version_stage(\n",
    "  name=model_name,\n",
    "  version=new_model_version,\n",
    "  stage=\"Production\",\n",
    ")"
   ]
  },
  {
   "cell_type": "code",
   "execution_count": 0,
   "metadata": {
    "application/vnd.databricks.v1+cell": {
     "cellMetadata": {
      "byteLimit": 2048000,
      "rowLimit": 10000
     },
     "inputWidgets": {},
     "nuid": "3281843f-c2ff-431f-a37d-f4a28d242c51",
     "showTitle": false,
     "tableResultSettingsMap": {},
     "title": ""
    }
   },
   "outputs": [],
   "source": [
    "# Forecast using this new Production model\n",
    "forecast_power(model_name, \"Production\")"
   ]
  },
  {
   "cell_type": "code",
   "execution_count": 0,
   "metadata": {
    "application/vnd.databricks.v1+cell": {
     "cellMetadata": {
      "byteLimit": 2048000,
      "rowLimit": 10000
     },
     "inputWidgets": {},
     "nuid": "e2ed5b99-eb32-4004-ae8c-d55b0c5786da",
     "showTitle": false,
     "tableResultSettingsMap": {},
     "title": ""
    }
   },
   "outputs": [],
   "source": [
    "# Archive the keras model\n",
    "from mlflow.tracking.client import MlflowClient\n",
    " \n",
    "client = MlflowClient()\n",
    "client.transition_model_version_stage(\n",
    "  name=model_name,\n",
    "  version=1,\n",
    "  stage=\"Archived\",\n",
    ")"
   ]
  },
  {
   "cell_type": "code",
   "execution_count": 0,
   "metadata": {
    "application/vnd.databricks.v1+cell": {
     "cellMetadata": {
      "byteLimit": 2048000,
      "rowLimit": 10000
     },
     "inputWidgets": {},
     "nuid": "d3bfbdee-4922-4f59-a2f3-63c74e453b5d",
     "showTitle": false,
     "tableResultSettingsMap": {},
     "title": ""
    }
   },
   "outputs": [],
   "source": [
    "# Infact we don't need this keras model. Lets delete it\n",
    "client.delete_model_version(\n",
    " name=model_name,\n",
    " version=1,\n",
    ")"
   ]
  },
  {
   "cell_type": "code",
   "execution_count": 0,
   "metadata": {
    "application/vnd.databricks.v1+cell": {
     "cellMetadata": {
      "byteLimit": 2048000,
      "rowLimit": 10000
     },
     "inputWidgets": {},
     "nuid": "ea132d46-7b30-43b2-8dca-cf984ab9f68e",
     "showTitle": false,
     "tableResultSettingsMap": {},
     "title": ""
    }
   },
   "outputs": [],
   "source": [
    "# Lets try to delete the model itself. Remember there is still a model version in Production\n",
    "client.delete_registered_model(name=model_name)"
   ]
  },
  {
   "cell_type": "code",
   "execution_count": 0,
   "metadata": {
    "application/vnd.databricks.v1+cell": {
     "cellMetadata": {
      "byteLimit": 2048000,
      "rowLimit": 10000
     },
     "inputWidgets": {},
     "nuid": "5fe35bd2-5e31-405c-9632-f39238af81f0",
     "showTitle": false,
     "tableResultSettingsMap": {},
     "title": ""
    }
   },
   "outputs": [],
   "source": [
    "# Lets first archive the model version in production\n",
    "client.transition_model_version_stage(\n",
    "  name=model_name,\n",
    "  version=2,\n",
    "  stage=\"Archived\"\n",
    ")"
   ]
  },
  {
   "cell_type": "code",
   "execution_count": 0,
   "metadata": {
    "application/vnd.databricks.v1+cell": {
     "cellMetadata": {
      "byteLimit": 2048000,
      "rowLimit": 10000
     },
     "inputWidgets": {},
     "nuid": "acf1fe33-86d8-4e53-a446-d005e2b00d14",
     "showTitle": false,
     "tableResultSettingsMap": {},
     "title": ""
    }
   },
   "outputs": [],
   "source": [
    "# And now Lets try to delete the model. It works\n",
    "client.delete_registered_model(name=model_name)"
   ]
  },
  {
   "cell_type": "code",
   "execution_count": 0,
   "metadata": {
    "application/vnd.databricks.v1+cell": {
     "cellMetadata": {},
     "inputWidgets": {},
     "nuid": "d7422322-9462-4ca2-92df-e20361c9e4f0",
     "showTitle": false,
     "tableResultSettingsMap": {},
     "title": ""
    }
   },
   "outputs": [],
   "source": []
  }
 ],
 "metadata": {
  "application/vnd.databricks.v1+notebook": {
   "computePreferences": null,
   "dashboards": [],
   "environmentMetadata": null,
   "inputWidgetPreferences": null,
   "language": "python",
   "notebookMetadata": {
    "pythonIndentUnit": 4
   },
   "notebookName": "2_5_MLflow Model Registry Example",
   "widgets": {}
  },
  "language_info": {
   "name": "python"
  }
 },
 "nbformat": 4,
 "nbformat_minor": 0
}
