{
 "cells": [
  {
   "cell_type": "code",
   "execution_count": 0,
   "metadata": {
    "application/vnd.databricks.v1+cell": {
     "cellMetadata": {
      "byteLimit": 2048000,
      "rowLimit": 10000
     },
     "inputWidgets": {},
     "nuid": "b0fbe53c-ec9f-4a88-825e-f0a3371e6c57",
     "showTitle": false,
     "tableResultSettingsMap": {},
     "title": ""
    }
   },
   "outputs": [],
   "source": [
    "from databricks import feature_store\n",
    "from databricks.feature_store import feature_table, FeatureLookup"
   ]
  },
  {
   "cell_type": "code",
   "execution_count": 0,
   "metadata": {
    "application/vnd.databricks.v1+cell": {
     "cellMetadata": {
      "byteLimit": 2048000,
      "rowLimit": 10000
     },
     "inputWidgets": {},
     "nuid": "755c742c-8831-4eee-9f5b-f5a05365095d",
     "showTitle": false,
     "tableResultSettingsMap": {},
     "title": ""
    }
   },
   "outputs": [],
   "source": [
    "import pandas as pd\n",
    " \n",
    "from pyspark.sql.functions import monotonically_increasing_id, expr, rand\n",
    "import uuid\n",
    "\n",
    "from sklearn.model_selection import train_test_split\n",
    "from sklearn.ensemble import RandomForestRegressor\n",
    "from sklearn.metrics import mean_squared_error, r2_score"
   ]
  },
  {
   "cell_type": "code",
   "execution_count": 0,
   "metadata": {
    "application/vnd.databricks.v1+cell": {
     "cellMetadata": {
      "byteLimit": 2048000,
      "rowLimit": 10000
     },
     "inputWidgets": {},
     "nuid": "4a96dadc-3b2e-487b-a462-01d427159be2",
     "showTitle": false,
     "tableResultSettingsMap": {},
     "title": ""
    }
   },
   "outputs": [],
   "source": [
    "raw_data = spark.read.load(\"/databricks-datasets/wine-quality/winequality-red.csv\",format=\"csv\",sep=\";\",inferSchema=\"true\",header=\"true\" )\n"
   ]
  },
  {
   "cell_type": "code",
   "execution_count": 0,
   "metadata": {
    "application/vnd.databricks.v1+cell": {
     "cellMetadata": {
      "byteLimit": 2048000,
      "rowLimit": 10000
     },
     "inputWidgets": {},
     "nuid": "8370f30a-8fc1-4ff9-b0b2-a3b92e70dcdf",
     "showTitle": false,
     "tableResultSettingsMap": {},
     "title": ""
    }
   },
   "outputs": [],
   "source": [
    "raw_data"
   ]
  },
  {
   "cell_type": "code",
   "execution_count": 0,
   "metadata": {
    "application/vnd.databricks.v1+cell": {
     "cellMetadata": {
      "byteLimit": 2048000,
      "rowLimit": 10000
     },
     "inputWidgets": {},
     "nuid": "47dc444c-a7bf-4886-a060-115dda8ffee8",
     "showTitle": false,
     "tableResultSettingsMap": {},
     "title": ""
    }
   },
   "outputs": [],
   "source": [
    "display(raw_data)"
   ]
  },
  {
   "cell_type": "code",
   "execution_count": 0,
   "metadata": {
    "application/vnd.databricks.v1+cell": {
     "cellMetadata": {
      "byteLimit": 2048000,
      "rowLimit": 10000
     },
     "inputWidgets": {},
     "nuid": "37c5ffcc-2b3d-4d95-b273-f10578c7554e",
     "showTitle": false,
     "tableResultSettingsMap": {},
     "title": ""
    }
   },
   "outputs": [],
   "source": [
    "def addIdColumn(dataframe, id_column_name):\n",
    "    \"\"\"Add id column to dataframe\"\"\"\n",
    "    columns = dataframe.columns\n",
    "    new_df = dataframe.withColumn(id_column_name, monotonically_increasing_id())\n",
    "    return new_df[[id_column_name] + columns]\n",
    " \n",
    "def renameColumns(df):\n",
    "    \"\"\"Rename columns to be compatible with Feature Store\"\"\"\n",
    "    renamed_df = df\n",
    "    for column in df.columns:\n",
    "        renamed_df = renamed_df.withColumnRenamed(column, column.replace(' ', '_'))\n",
    "    return renamed_df"
   ]
  },
  {
   "cell_type": "code",
   "execution_count": 0,
   "metadata": {
    "application/vnd.databricks.v1+cell": {
     "cellMetadata": {
      "byteLimit": 2048000,
      "rowLimit": 10000
     },
     "inputWidgets": {},
     "nuid": "3f13bed3-7e7a-4415-ac41-85bdf3d7b612",
     "showTitle": false,
     "tableResultSettingsMap": {},
     "title": ""
    }
   },
   "outputs": [],
   "source": [
    "renamed_df = renameColumns(raw_data)\n",
    "df = addIdColumn(renamed_df, 'wine_id')"
   ]
  },
  {
   "cell_type": "code",
   "execution_count": 0,
   "metadata": {
    "application/vnd.databricks.v1+cell": {
     "cellMetadata": {
      "byteLimit": 2048000,
      "rowLimit": 10000
     },
     "inputWidgets": {},
     "nuid": "4756cf43-c536-4d4f-86c9-f55015e0fe88",
     "showTitle": false,
     "tableResultSettingsMap": {},
     "title": ""
    }
   },
   "outputs": [],
   "source": [
    "features_df = df.drop('quality')\n",
    "display(features_df)"
   ]
  },
  {
   "cell_type": "code",
   "execution_count": 0,
   "metadata": {
    "application/vnd.databricks.v1+cell": {
     "cellMetadata": {
      "byteLimit": 2048000,
      "rowLimit": 10000
     },
     "inputWidgets": {},
     "nuid": "fac77f6e-abea-4a9e-a227-c731d6770f21",
     "showTitle": false,
     "tableResultSettingsMap": {},
     "title": ""
    }
   },
   "outputs": [],
   "source": [
    "spark.sql(f\"CREATE DATABASE IF NOT EXISTS wine_db\")\n",
    " \n",
    "# Create a unique table name for each run. This prevents errors if you run the notebook multiple times\n",
    "table_name = f\"wine_db_\" + str(uuid.uuid4())[:6]\n",
    "print(table_name)"
   ]
  },
  {
   "cell_type": "code",
   "execution_count": 0,
   "metadata": {
    "application/vnd.databricks.v1+cell": {
     "cellMetadata": {
      "byteLimit": 2048000,
      "rowLimit": 10000
     },
     "inputWidgets": {},
     "nuid": "3bbe02c3-97d7-48e1-928d-e578034710e5",
     "showTitle": false,
     "tableResultSettingsMap": {},
     "title": ""
    }
   },
   "outputs": [],
   "source": [
    "fs = feature_store.FeatureStoreClient()"
   ]
  },
  {
   "cell_type": "code",
   "execution_count": 0,
   "metadata": {
    "application/vnd.databricks.v1+cell": {
     "cellMetadata": {
      "byteLimit": 2048000,
      "rowLimit": 10000
     },
     "inputWidgets": {},
     "nuid": "63c50ab4-4a93-4578-807c-71284d9cd0e4",
     "showTitle": false,
     "tableResultSettingsMap": {},
     "title": ""
    }
   },
   "outputs": [],
   "source": [
    "fs.create_table(\n",
    "    name=table_name,\n",
    "    primary_keys=[\"wine_id\"],\n",
    "    df=features_df,\n",
    "    schema=features_df.schema,\n",
    "    description=\"wine features\"\n",
    ")"
   ]
  },
  {
   "cell_type": "markdown",
   "metadata": {
    "application/vnd.databricks.v1+cell": {
     "cellMetadata": {},
     "inputWidgets": {},
     "nuid": "bd6b8e1f-6e35-4505-a310-8188cb26f933",
     "showTitle": false,
     "tableResultSettingsMap": {},
     "title": ""
    }
   },
   "source": [
    "Check the feature store from Databricks UI to ensure feature store has been created"
   ]
  },
  {
   "cell_type": "code",
   "execution_count": 0,
   "metadata": {
    "application/vnd.databricks.v1+cell": {
     "cellMetadata": {
      "byteLimit": 2048000,
      "rowLimit": 10000
     },
     "inputWidgets": {},
     "nuid": "6d6e23bc-055c-4d0e-9997-c7da72bebfc9",
     "showTitle": false,
     "tableResultSettingsMap": {},
     "title": ""
    }
   },
   "outputs": [],
   "source": [
    "inference_data_df = df.select(\"wine_id\", \"quality\", (10 * rand()).alias(\"real_time_measurement\"))\n",
    "display(inference_data_df)"
   ]
  },
  {
   "cell_type": "code",
   "execution_count": 0,
   "metadata": {
    "application/vnd.databricks.v1+cell": {
     "cellMetadata": {
      "byteLimit": 2048000,
      "rowLimit": 10000
     },
     "inputWidgets": {},
     "nuid": "c69185a2-ec43-4a8b-986d-2be381074b17",
     "showTitle": false,
     "tableResultSettingsMap": {},
     "title": ""
    }
   },
   "outputs": [],
   "source": [
    "def load_data(table_name, lookup_key):\n",
    "    # In the FeatureLookup, if you do not provide the `feature_names` parameter, all features except primary keys are returned\n",
    "    model_feature_lookups = [FeatureLookup(table_name=table_name, lookup_key=lookup_key)]\n",
    " \n",
    "    # fs.create_training_set looks up features in model_feature_lookups that match the primary key from inference_data_df\n",
    "    training_set = fs.create_training_set(inference_data_df, model_feature_lookups, label=\"quality\", exclude_columns=\"wine_id\")\n",
    "    training_pd = training_set.load_df().toPandas()\n",
    " \n",
    "    # Create train and test datasets\n",
    "    X = training_pd.drop(\"quality\", axis=1)\n",
    "    y = training_pd[\"quality\"]\n",
    "    X_train, X_test, y_train, y_test = train_test_split(X, y, test_size=0.2, random_state=42)\n",
    "    return X_train, X_test, y_train, y_test, training_set"
   ]
  },
  {
   "cell_type": "code",
   "execution_count": 0,
   "metadata": {
    "application/vnd.databricks.v1+cell": {
     "cellMetadata": {
      "byteLimit": 2048000,
      "rowLimit": 10000
     },
     "inputWidgets": {},
     "nuid": "332f8137-ae94-4452-b190-a53e0ae64b77",
     "showTitle": false,
     "tableResultSettingsMap": {},
     "title": ""
    }
   },
   "outputs": [],
   "source": [
    "X_train, X_test, y_train, y_test, training_set = load_data(table_name, \"wine_id\")\n",
    "X_train.head()"
   ]
  },
  {
   "cell_type": "code",
   "execution_count": 0,
   "metadata": {
    "application/vnd.databricks.v1+cell": {
     "cellMetadata": {
      "byteLimit": 2048000,
      "rowLimit": 10000
     },
     "inputWidgets": {},
     "nuid": "5d979bcf-a114-45f2-95a3-5d3ff87f003e",
     "showTitle": false,
     "tableResultSettingsMap": {},
     "title": ""
    }
   },
   "outputs": [],
   "source": [
    "y_train.head()"
   ]
  },
  {
   "cell_type": "code",
   "execution_count": 0,
   "metadata": {
    "application/vnd.databricks.v1+cell": {
     "cellMetadata": {
      "byteLimit": 2048000,
      "rowLimit": 10000
     },
     "inputWidgets": {},
     "nuid": "9042b1e4-3697-42d4-8b4b-7d3aa82a81e8",
     "showTitle": false,
     "tableResultSettingsMap": {},
     "title": ""
    }
   },
   "outputs": [],
   "source": [
    "from mlflow.tracking.client import MlflowClient\n",
    " \n",
    "client = MlflowClient()\n",
    " \n",
    "try:\n",
    "    client.delete_registered_model(\"wine_model\") # Delete the model if already created\n",
    "except:\n",
    "    None"
   ]
  },
  {
   "cell_type": "code",
   "execution_count": 0,
   "metadata": {
    "application/vnd.databricks.v1+cell": {
     "cellMetadata": {
      "byteLimit": 2048000,
      "rowLimit": 10000
     },
     "inputWidgets": {},
     "nuid": "e2c64fad-d14f-44f0-a94d-1f507aacfdda",
     "showTitle": false,
     "tableResultSettingsMap": {},
     "title": ""
    }
   },
   "outputs": [],
   "source": [
    "import mlflow"
   ]
  },
  {
   "cell_type": "code",
   "execution_count": 0,
   "metadata": {
    "application/vnd.databricks.v1+cell": {
     "cellMetadata": {
      "byteLimit": 2048000,
      "rowLimit": 10000
     },
     "inputWidgets": {},
     "nuid": "ed7ea70b-2b00-4d73-8e3e-9fa0a117b884",
     "showTitle": false,
     "tableResultSettingsMap": {},
     "title": ""
    }
   },
   "outputs": [],
   "source": [
    "# Disable MLflow autologging and instead log the model using Feature Store\n",
    "mlflow.sklearn.autolog(log_models=False)\n",
    " \n",
    "def train_model(X_train, X_test, y_train, y_test, training_set, fs):\n",
    "    ## fit and log model\n",
    "    with mlflow.start_run() as run:\n",
    " \n",
    "        rf = RandomForestRegressor(max_depth=3, n_estimators=20, random_state=42)\n",
    "        rf.fit(X_train, y_train)\n",
    "        y_pred = rf.predict(X_test)\n",
    " \n",
    "        mlflow.log_metric(\"test_mse\", mean_squared_error(y_test, y_pred))\n",
    "        mlflow.log_metric(\"test_r2_score\", r2_score(y_test, y_pred))\n",
    " \n",
    "        fs.log_model(\n",
    "            model=rf,\n",
    "            artifact_path=\"wine_quality_prediction\",\n",
    "            flavor=mlflow.sklearn,\n",
    "            training_set=training_set,\n",
    "            registered_model_name=\"wine_model\",\n",
    "        )\n",
    " \n",
    "train_model(X_train, X_test, y_train, y_test, training_set, fs)"
   ]
  },
  {
   "cell_type": "markdown",
   "metadata": {
    "application/vnd.databricks.v1+cell": {
     "cellMetadata": {},
     "inputWidgets": {},
     "nuid": "42d0c7af-1cee-4ff9-85f9-89952df93965",
     "showTitle": false,
     "tableResultSettingsMap": {},
     "title": ""
    }
   },
   "source": [
    "Verify under \"Models\" section > \"Workspace Models Registry\" on Databricks UI to see the trained/registered model\n",
    "Also go to \"Experiments\" section >  1st experiment on feature store"
   ]
  },
  {
   "cell_type": "code",
   "execution_count": 0,
   "metadata": {
    "application/vnd.databricks.v1+cell": {
     "cellMetadata": {
      "byteLimit": 2048000,
      "rowLimit": 10000
     },
     "inputWidgets": {},
     "nuid": "305c0cae-286d-45ae-a6a8-ad619e331b56",
     "showTitle": false,
     "tableResultSettingsMap": {},
     "title": ""
    }
   },
   "outputs": [],
   "source": [
    "batch_input_df = inference_data_df.drop(\"quality\") # Drop the label column\n",
    " \n",
    "predictions_df = fs.score_batch(\"models:/wine_model/latest\", batch_input_df) # Here we are using score_batch function of the Feature Store object 'fs' to make batch predictions on the model\n",
    "                                  \n",
    "display(predictions_df[\"wine_id\", \"prediction\"])"
   ]
  },
  {
   "cell_type": "code",
   "execution_count": 0,
   "metadata": {
    "application/vnd.databricks.v1+cell": {
     "cellMetadata": {
      "byteLimit": 2048000,
      "rowLimit": 10000
     },
     "inputWidgets": {},
     "nuid": "603d5911-ddd2-45ef-98ba-df586b0887f4",
     "showTitle": false,
     "tableResultSettingsMap": {},
     "title": ""
    }
   },
   "outputs": [],
   "source": [
    "so2_cols = [\"free_sulfur_dioxide\", \"total_sulfur_dioxide\"]"
   ]
  },
  {
   "cell_type": "code",
   "execution_count": 0,
   "metadata": {
    "application/vnd.databricks.v1+cell": {
     "cellMetadata": {
      "byteLimit": 2048000,
      "rowLimit": 10000
     },
     "inputWidgets": {},
     "nuid": "79603edf-7542-4777-9926-cffe20cded93",
     "showTitle": false,
     "tableResultSettingsMap": {},
     "title": ""
    }
   },
   "outputs": [],
   "source": [
    "new_features_df = (features_df.withColumn(\"average_so2\", expr(\"+\".join(so2_cols)) / 2))"
   ]
  },
  {
   "cell_type": "code",
   "execution_count": 0,
   "metadata": {
    "application/vnd.databricks.v1+cell": {
     "cellMetadata": {
      "byteLimit": 2048000,
      "rowLimit": 10000
     },
     "inputWidgets": {},
     "nuid": "3669bb42-5434-4400-aebd-93228e0dd4f2",
     "showTitle": false,
     "tableResultSettingsMap": {},
     "title": ""
    }
   },
   "outputs": [],
   "source": [
    "display(new_features_df)"
   ]
  },
  {
   "cell_type": "code",
   "execution_count": 0,
   "metadata": {
    "application/vnd.databricks.v1+cell": {
     "cellMetadata": {
      "byteLimit": 2048000,
      "rowLimit": 10000
     },
     "inputWidgets": {},
     "nuid": "23bdce1f-f909-4c11-9800-6b6c3e77400e",
     "showTitle": false,
     "tableResultSettingsMap": {},
     "title": ""
    }
   },
   "outputs": [],
   "source": [
    "fs.write_table(\n",
    "    name=table_name,\n",
    "    df=new_features_df,\n",
    "    mode=\"merge\"\n",
    ")"
   ]
  },
  {
   "cell_type": "markdown",
   "metadata": {
    "application/vnd.databricks.v1+cell": {
     "cellMetadata": {},
     "inputWidgets": {},
     "nuid": "b66ec8ec-9ab1-4e37-8c31-16510f6a3cc2",
     "showTitle": false,
     "tableResultSettingsMap": {},
     "title": ""
    }
   },
   "source": [
    "CHeck the feature store again to verify if the new column is available"
   ]
  },
  {
   "cell_type": "code",
   "execution_count": 0,
   "metadata": {
    "application/vnd.databricks.v1+cell": {
     "cellMetadata": {
      "byteLimit": 2048000,
      "rowLimit": 10000
     },
     "inputWidgets": {},
     "nuid": "46f5689f-c57e-4329-9d5d-6515e4877e25",
     "showTitle": false,
     "tableResultSettingsMap": {},
     "title": ""
    }
   },
   "outputs": [],
   "source": [
    "display(fs.read_table(name=table_name))"
   ]
  },
  {
   "cell_type": "code",
   "execution_count": 0,
   "metadata": {
    "application/vnd.databricks.v1+cell": {
     "cellMetadata": {
      "byteLimit": 2048000,
      "rowLimit": 10000
     },
     "inputWidgets": {},
     "nuid": "04a7c028-dc0e-4920-bf2f-22c0cc4e5b37",
     "showTitle": false,
     "tableResultSettingsMap": {},
     "title": ""
    }
   },
   "outputs": [],
   "source": [
    "def load_data(table_name, lookup_key):\n",
    "    model_feature_lookups = [FeatureLookup(table_name=table_name, lookup_key=lookup_key)]\n",
    "    \n",
    "    # fs.create_training_set will look up features in model_feature_lookups with matched key from inference_data_df\n",
    "    training_set = fs.create_training_set(inference_data_df, model_feature_lookups, label=\"quality\", exclude_columns=\"wine_id\")\n",
    "    training_pd = training_set.load_df().toPandas()\n",
    " \n",
    "    # Create train and test datasets\n",
    "    X = training_pd.drop(\"quality\", axis=1)\n",
    "    y = training_pd[\"quality\"]\n",
    "    X_train, X_test, y_train, y_test = train_test_split(X, y, test_size=0.2, random_state=42)\n",
    "    return X_train, X_test, y_train, y_test, training_set\n",
    " \n",
    "X_train, X_test, y_train, y_test, training_set = load_data(table_name, \"wine_id\")\n",
    "X_train.head()"
   ]
  },
  {
   "cell_type": "code",
   "execution_count": 0,
   "metadata": {
    "application/vnd.databricks.v1+cell": {
     "cellMetadata": {
      "byteLimit": 2048000,
      "rowLimit": 10000
     },
     "inputWidgets": {},
     "nuid": "5742cf96-f45f-43b8-9aff-804874f2e48d",
     "showTitle": false,
     "tableResultSettingsMap": {},
     "title": ""
    }
   },
   "outputs": [],
   "source": [
    "def train_model(X_train, X_test, y_train, y_test, training_set, fs):\n",
    "    ## fit and log model\n",
    "    with mlflow.start_run() as run:\n",
    " \n",
    "        rf = RandomForestRegressor(max_depth=3, n_estimators=20, random_state=42)\n",
    "        rf.fit(X_train, y_train)\n",
    "        y_pred = rf.predict(X_test)\n",
    " \n",
    "        mlflow.log_metric(\"test_mse\", mean_squared_error(y_test, y_pred))\n",
    "        mlflow.log_metric(\"test_r2_score\", r2_score(y_test, y_pred))\n",
    " \n",
    "        fs.log_model(\n",
    "            model=rf,\n",
    "            artifact_path=\"feature-store-model\",\n",
    "            flavor=mlflow.sklearn,\n",
    "            training_set=training_set,\n",
    "            registered_model_name=\"wine_model\",\n",
    "        )\n",
    " \n",
    "train_model(X_train, X_test, y_train, y_test, training_set, fs)"
   ]
  },
  {
   "cell_type": "code",
   "execution_count": 0,
   "metadata": {
    "application/vnd.databricks.v1+cell": {
     "cellMetadata": {
      "byteLimit": 2048000,
      "rowLimit": 10000
     },
     "inputWidgets": {},
     "nuid": "71746c47-8a8d-435f-8811-aa2769ffac99",
     "showTitle": false,
     "tableResultSettingsMap": {},
     "title": ""
    }
   },
   "outputs": [],
   "source": [
    "batch_input_df = inference_data_df.drop(\"quality\") # Drop the label column\n",
    "predictions_df = fs.score_batch(f\"models:/wine_model/latest\", batch_input_df)\n",
    "display(predictions_df[\"wine_id\",\"prediction\"])"
   ]
  },
  {
   "cell_type": "code",
   "execution_count": 0,
   "metadata": {
    "application/vnd.databricks.v1+cell": {
     "cellMetadata": {},
     "inputWidgets": {},
     "nuid": "99315926-dea7-4173-b3e3-d48d4784fb20",
     "showTitle": false,
     "tableResultSettingsMap": {},
     "title": ""
    }
   },
   "outputs": [],
   "source": []
  }
 ],
 "metadata": {
  "application/vnd.databricks.v1+notebook": {
   "computePreferences": null,
   "dashboards": [],
   "environmentMetadata": null,
   "inputWidgetPreferences": null,
   "language": "python",
   "notebookMetadata": {
    "pythonIndentUnit": 4
   },
   "notebookName": "2_3_Feature Store",
   "widgets": {}
  },
  "language_info": {
   "name": "python"
  }
 },
 "nbformat": 4,
 "nbformat_minor": 0
}
